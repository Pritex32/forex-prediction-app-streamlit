{
 "cells": [
  {
   "cell_type": "code",
   "execution_count": 21,
   "id": "882f159d-9f24-4eee-b3ce-4914a9f0f320",
   "metadata": {},
   "outputs": [],
   "source": [
    "import pandas as pd \n",
    "import numpy as np\n",
    "import matplotlib.pyplot as plt\n",
    "import seaborn as sns\n"
   ]
  },
  {
   "cell_type": "code",
   "execution_count": 22,
   "id": "4a6210ae-1f89-4c7f-8fea-10a39b0e5852",
   "metadata": {},
   "outputs": [],
   "source": [
    "import datetime\n",
    "from datetime import date"
   ]
  },
  {
   "cell_type": "code",
   "execution_count": 23,
   "id": "d2251da3-a5a3-4144-9e1b-d9a92ab951db",
   "metadata": {},
   "outputs": [],
   "source": [
    "from alpha_vantage.timeseries import TimeSeries\n",
    "import time"
   ]
  },
  {
   "cell_type": "code",
   "execution_count": 24,
   "id": "aa05c475-140d-4c0d-a224-523519c9c0e8",
   "metadata": {},
   "outputs": [],
   "source": [
    "api_key='8GP70P35XCP05I0P'"
   ]
  },
  {
   "cell_type": "code",
   "execution_count": 25,
   "id": "b66348d7-b705-48e2-b523-fc9bc719b837",
   "metadata": {},
   "outputs": [],
   "source": [
    "ts=TimeSeries(key=api_key,output_format='pandas')"
   ]
  },
  {
   "cell_type": "code",
   "execution_count": 26,
   "id": "629b899c-50da-47be-93ce-c5eb207d9d95",
   "metadata": {},
   "outputs": [],
   "source": [
    "data,meta_data=ts.get_daily(symbol='GBPUSD',outputsize='full')"
   ]
  },
  {
   "cell_type": "code",
   "execution_count": 27,
   "id": "1c7b5536-0000-4f4a-8c2e-91af21ae98a4",
   "metadata": {},
   "outputs": [
    {
     "data": {
      "text/html": [
       "<div>\n",
       "<style scoped>\n",
       "    .dataframe tbody tr th:only-of-type {\n",
       "        vertical-align: middle;\n",
       "    }\n",
       "\n",
       "    .dataframe tbody tr th {\n",
       "        vertical-align: top;\n",
       "    }\n",
       "\n",
       "    .dataframe thead th {\n",
       "        text-align: right;\n",
       "    }\n",
       "</style>\n",
       "<table border=\"1\" class=\"dataframe\">\n",
       "  <thead>\n",
       "    <tr style=\"text-align: right;\">\n",
       "      <th></th>\n",
       "      <th>1. open</th>\n",
       "      <th>2. high</th>\n",
       "      <th>3. low</th>\n",
       "      <th>4. close</th>\n",
       "      <th>5. volume</th>\n",
       "    </tr>\n",
       "    <tr>\n",
       "      <th>date</th>\n",
       "      <th></th>\n",
       "      <th></th>\n",
       "      <th></th>\n",
       "      <th></th>\n",
       "      <th></th>\n",
       "    </tr>\n",
       "  </thead>\n",
       "  <tbody>\n",
       "    <tr>\n",
       "      <th>2025-02-27</th>\n",
       "      <td>1.2673</td>\n",
       "      <td>1.2689</td>\n",
       "      <td>1.2601</td>\n",
       "      <td>1.2602</td>\n",
       "      <td>0.0</td>\n",
       "    </tr>\n",
       "    <tr>\n",
       "      <th>2025-02-26</th>\n",
       "      <td>1.2661</td>\n",
       "      <td>1.2716</td>\n",
       "      <td>1.2635</td>\n",
       "      <td>1.2674</td>\n",
       "      <td>0.0</td>\n",
       "    </tr>\n",
       "    <tr>\n",
       "      <th>2025-02-25</th>\n",
       "      <td>1.2624</td>\n",
       "      <td>1.2678</td>\n",
       "      <td>1.2605</td>\n",
       "      <td>1.2665</td>\n",
       "      <td>0.0</td>\n",
       "    </tr>\n",
       "    <tr>\n",
       "      <th>2025-02-24</th>\n",
       "      <td>1.2636</td>\n",
       "      <td>1.2691</td>\n",
       "      <td>1.2612</td>\n",
       "      <td>1.2624</td>\n",
       "      <td>0.0</td>\n",
       "    </tr>\n",
       "    <tr>\n",
       "      <th>2025-02-21</th>\n",
       "      <td>1.2668</td>\n",
       "      <td>1.2678</td>\n",
       "      <td>1.2625</td>\n",
       "      <td>1.2632</td>\n",
       "      <td>0.0</td>\n",
       "    </tr>\n",
       "  </tbody>\n",
       "</table>\n",
       "</div>"
      ],
      "text/plain": [
       "            1. open  2. high  3. low  4. close  5. volume\n",
       "date                                                     \n",
       "2025-02-27   1.2673   1.2689  1.2601    1.2602        0.0\n",
       "2025-02-26   1.2661   1.2716  1.2635    1.2674        0.0\n",
       "2025-02-25   1.2624   1.2678  1.2605    1.2665        0.0\n",
       "2025-02-24   1.2636   1.2691  1.2612    1.2624        0.0\n",
       "2025-02-21   1.2668   1.2678  1.2625    1.2632        0.0"
      ]
     },
     "execution_count": 27,
     "metadata": {},
     "output_type": "execute_result"
    }
   ],
   "source": [
    "data.head()"
   ]
  },
  {
   "cell_type": "code",
   "execution_count": 28,
   "id": "4b44b334-dace-4156-b813-b2a012203caa",
   "metadata": {},
   "outputs": [
    {
     "data": {
      "text/plain": [
       "{'1. Information': 'Daily Prices (open, high, low, close) and Volumes',\n",
       " '2. Symbol': 'GBPUSD',\n",
       " '3. Last Refreshed': '2025-02-27',\n",
       " '4. Output Size': 'Full size',\n",
       " '5. Time Zone': 'US/Eastern'}"
      ]
     },
     "execution_count": 28,
     "metadata": {},
     "output_type": "execute_result"
    }
   ],
   "source": [
    "meta_data"
   ]
  },
  {
   "cell_type": "code",
   "execution_count": 29,
   "id": "f6750cb6-8515-4602-a143-e27ccd48f0d1",
   "metadata": {},
   "outputs": [],
   "source": [
    "data.columns=[['open', ' high', 'low', ' close', 'volume']]\n",
    "#renamimg columns"
   ]
  },
  {
   "cell_type": "code",
   "execution_count": 30,
   "id": "cb016c52-e02a-4c36-9735-305e269bb537",
   "metadata": {},
   "outputs": [
    {
     "data": {
      "text/plain": [
       "(5000, 5)"
      ]
     },
     "execution_count": 30,
     "metadata": {},
     "output_type": "execute_result"
    }
   ],
   "source": [
    "data.shape"
   ]
  },
  {
   "cell_type": "code",
   "execution_count": 31,
   "id": "9c9afb4f-0c57-4bfb-abdc-f76e6a23cd6c",
   "metadata": {},
   "outputs": [
    {
     "data": {
      "text/plain": [
       "open      0\n",
       " high     0\n",
       "low       0\n",
       " close    0\n",
       "volume    0\n",
       "dtype: int64"
      ]
     },
     "execution_count": 31,
     "metadata": {},
     "output_type": "execute_result"
    }
   ],
   "source": [
    "data.isnull().sum()"
   ]
  },
  {
   "cell_type": "code",
   "execution_count": 32,
   "id": "e956bca7-06d5-437c-b55b-9cce265b02ba",
   "metadata": {},
   "outputs": [
    {
     "data": {
      "text/plain": [
       "0"
      ]
     },
     "execution_count": 32,
     "metadata": {},
     "output_type": "execute_result"
    }
   ],
   "source": [
    "data.duplicated().sum()"
   ]
  },
  {
   "cell_type": "markdown",
   "id": "32122af0-cd19-420f-9ce5-9800db4cedf9",
   "metadata": {},
   "source": [
    "# ploting "
   ]
  },
  {
   "cell_type": "code",
   "execution_count": 37,
   "id": "d28f9fb6-db56-42e8-af84-ba87c10ee319",
   "metadata": {},
   "outputs": [],
   "source": [
    "rollmean=data['open'].rolling(50).mean() # the moving average"
   ]
  },
  {
   "cell_type": "code",
   "execution_count": 39,
   "id": "a8613a4c-4fc2-4e72-a6cf-959c1ae4ebad",
   "metadata": {},
   "outputs": [
    {
     "data": {
      "text/plain": [
       "<matplotlib.legend.Legend at 0x1ce7cb00760>"
      ]
     },
     "execution_count": 39,
     "metadata": {},
     "output_type": "execute_result"
    },
    {
     "data": {
      "image/png": "[encoded data removed]",
      "text/plain": [
       "<Figure size 640x480 with 1 Axes>"
      ]
     },
     "metadata": {},
     "output_type": "display_data"
    }
   ],
   "source": [
    "plt.plot(data['open'],label='yearly chart')\n",
    "plt.plot(rollmean,label='50 MA')\n",
    "plt.legend()"
   ]
  },
  {
   "cell_type": "code",
   "execution_count": 40,
   "id": "8d90df1d-1fa1-4645-b8d0-9f613ba6599b",
   "metadata": {},
   "outputs": [
    {
     "data": {
      "text/plain": [
       "open      float64\n",
       " high     float64\n",
       "low       float64\n",
       " close    float64\n",
       "volume    float64\n",
       "dtype: object"
      ]
     },
     "execution_count": 40,
     "metadata": {},
     "output_type": "execute_result"
    }
   ],
   "source": [
    "data.dtypes"
   ]
  },
  {
   "cell_type": "code",
   "execution_count": 41,
   "id": "e70135a2-0766-4c1a-9653-0987fa65ac35",
   "metadata": {},
   "outputs": [],
   "source": [
    "open_price=data[['open']]"
   ]
  },
  {
   "cell_type": "code",
   "execution_count": 42,
   "id": "52aa6325-74de-4775-8f58-e49fe68f3e2d",
   "metadata": {},
   "outputs": [],
   "source": [
    "from sklearn.preprocessing import MinMaxScaler\n",
    "from sklearn.model_selection import train_test_split"
   ]
  },
  {
   "cell_type": "code",
   "execution_count": 43,
   "id": "c5bbb0e2-7744-4e1a-8248-45a357110ba5",
   "metadata": {},
   "outputs": [],
   "source": [
    "scaler=MinMaxScaler(feature_range=(0,1))"
   ]
  },
  {
   "cell_type": "code",
   "execution_count": 44,
   "id": "e372a4da-fdbc-4a9c-adab-c83c80278938",
   "metadata": {},
   "outputs": [],
   "source": [
    "scaler_data=scaler.fit_transform(open_price)"
   ]
  },
  {
   "cell_type": "code",
   "execution_count": 45,
   "id": "73e44732-095a-47e1-83e6-a7e30a251079",
   "metadata": {},
   "outputs": [],
   "source": [
    "# feature sequence\n",
    "x=[]\n",
    "y=[]\n",
    "for i in range(60,len(scaler_data)):\n",
    "    x.append(scaler_data[i-60:i])\n",
    "    y.append(scaler_data[i])\n",
    "\n",
    "x=np.array(x)\n",
    "y=np.array(y)"
   ]
  },
  {
   "cell_type": "code",
   "execution_count": 46,
   "id": "fe3576d7-7b9e-4ad0-9be8-58c2bf37f46e",
   "metadata": {},
   "outputs": [
    {
     "data": {
      "text/plain": [
       "((4940, 60, 1), (4940, 1))"
      ]
     },
     "execution_count": 46,
     "metadata": {},
     "output_type": "execute_result"
    }
   ],
   "source": [
    "x.shape,y.shape"
   ]
  },
  {
   "cell_type": "code",
   "execution_count": 47,
   "id": "c8244393-c9ed-4243-b07e-706b0769e737",
   "metadata": {},
   "outputs": [],
   "source": [
    "x_train,x_test,y_train,y_test=train_test_split(x,y,test_size=0.3,random_state=42)"
   ]
  },
  {
   "cell_type": "code",
   "execution_count": 48,
   "id": "aed2c450-9962-42d3-8491-c5224cdf13ec",
   "metadata": {},
   "outputs": [
    {
     "data": {
      "text/plain": [
       "(3458, 60, 1)"
      ]
     },
     "execution_count": 48,
     "metadata": {},
     "output_type": "execute_result"
    }
   ],
   "source": [
    "x_train.shape"
   ]
  },
  {
   "cell_type": "code",
   "execution_count": null,
   "id": "d4f028e0-9b68-4156-8e99-2149e58a7857",
   "metadata": {},
   "outputs": [],
   "source": [
    "# model builing"
   ]
  },
  {
   "cell_type": "code",
   "execution_count": 49,
   "id": "412215d5-f12f-4973-83bf-7db4584dd44c",
   "metadata": {},
   "outputs": [],
   "source": [
    "from keras.models import Sequential\n",
    "from keras.layers import LSTM,Dense,Dropout"
   ]
  },
  {
   "cell_type": "code",
   "execution_count": 50,
   "id": "bffddd1a-af79-45ee-8fcc-45b8656031c3",
   "metadata": {},
   "outputs": [],
   "source": [
    "model=Sequential()"
   ]
  },
  {
   "cell_type": "code",
   "execution_count": 51,
   "id": "ba40d3e4-7c3e-4528-92e3-8a0af76f0dae",
   "metadata": {},
   "outputs": [],
   "source": [
    "model.add(LSTM(units=50,return_sequences=True,input_shape=(x_train.shape[1],x_train.shape[2])))\n",
    "model.add(Dropout(0.3))"
   ]
  },
  {
   "cell_type": "code",
   "execution_count": 52,
   "id": "8d2f6dd4-84e0-4304-a76b-8a2d94d79104",
   "metadata": {},
   "outputs": [],
   "source": [
    "model.add(LSTM(units=50,return_sequences=True))\n",
    "model.add(Dropout(0.3))"
   ]
  },
  {
   "cell_type": "code",
   "execution_count": 53,
   "id": "44717616-ba11-445d-8a21-d26a01c7d54c",
   "metadata": {},
   "outputs": [],
   "source": [
    "model.add(LSTM(units=50,return_sequences=False))\n",
    "model.add(Dropout(0.3))"
   ]
  },
  {
   "cell_type": "code",
   "execution_count": 54,
   "id": "d4581c78-79b5-44e0-afba-72712ce813ce",
   "metadata": {},
   "outputs": [],
   "source": [
    "model.add(Dense(units=1))"
   ]
  },
  {
   "cell_type": "code",
   "execution_count": 55,
   "id": "e7d8c9db-a7d4-43ec-a437-55712fe1ce0a",
   "metadata": {},
   "outputs": [],
   "source": [
    "# compile\n",
    "model.compile(optimizer='adam',loss='mean_absolute_error')"
   ]
  },
  {
   "cell_type": "code",
   "execution_count": 56,
   "id": "5eaf6a35-31e1-426e-b981-718a37014b6e",
   "metadata": {},
   "outputs": [
    {
     "name": "stdout",
     "output_type": "stream",
     "text": [
      "Epoch 1/10\n",
      "109/109 [==============================] - 41s 233ms/step - loss: 0.0727 - val_loss: 0.0207\n",
      "Epoch 2/10\n",
      "109/109 [==============================] - 22s 205ms/step - loss: 0.0451 - val_loss: 0.0171\n",
      "Epoch 3/10\n",
      "109/109 [==============================] - 26s 240ms/step - loss: 0.0417 - val_loss: 0.0389\n",
      "Epoch 4/10\n",
      "109/109 [==============================] - 29s 269ms/step - loss: 0.0394 - val_loss: 0.0208\n",
      "Epoch 5/10\n",
      "109/109 [==============================] - 29s 269ms/step - loss: 0.0369 - val_loss: 0.0193\n",
      "Epoch 6/10\n",
      "109/109 [==============================] - 29s 267ms/step - loss: 0.0337 - val_loss: 0.0159\n",
      "Epoch 7/10\n",
      "109/109 [==============================] - 29s 266ms/step - loss: 0.0337 - val_loss: 0.0175\n",
      "Epoch 8/10\n",
      "109/109 [==============================] - 29s 264ms/step - loss: 0.0324 - val_loss: 0.0181\n",
      "Epoch 9/10\n",
      "109/109 [==============================] - 29s 271ms/step - loss: 0.0306 - val_loss: 0.0326\n",
      "Epoch 10/10\n",
      "109/109 [==============================] - 30s 276ms/step - loss: 0.0296 - val_loss: 0.0180\n"
     ]
    }
   ],
   "source": [
    "# fit the model\n",
    "lstm_model=model.fit(x_train,y_train,validation_data=(x_test,y_test),batch_size=32,epochs=10)"
   ]
  },
  {
   "cell_type": "code",
   "execution_count": 57,
   "id": "a941f851-1136-4ccd-bfc3-fb0fb094c9c0",
   "metadata": {},
   "outputs": [],
   "source": [
    "# plotting the loss\n",
    "loss=lstm_model.history['loss']\n",
    "val=lstm_model.history['val_loss']"
   ]
  },
  {
   "cell_type": "code",
   "execution_count": 58,
   "id": "4053bd90-cc67-4403-af1e-a2c73953074d",
   "metadata": {},
   "outputs": [
    {
     "data": {
      "text/plain": [
       "[<matplotlib.lines.Line2D at 0x1ce107c6d00>]"
      ]
     },
     "execution_count": 58,
     "metadata": {},
     "output_type": "execute_result"
    },
    {
     "data": {
      "image/png": "[encoded data removed]",
      "text/plain": [
       "<Figure size 640x480 with 1 Axes>"
      ]
     },
     "metadata": {},
     "output_type": "display_data"
    }
   ],
   "source": [
    "plt.plot(loss,label='loss')\n",
    "plt.plot(val,label='validation loss')"
   ]
  },
  {
   "cell_type": "markdown",
   "id": "705db35d-7e55-488c-a336-8090b15951f6",
   "metadata": {},
   "source": [
    "# predictions"
   ]
  },
  {
   "cell_type": "code",
   "execution_count": 59,
   "id": "e0035da2-2780-4beb-8891-3d05586aa52f",
   "metadata": {},
   "outputs": [
    {
     "name": "stdout",
     "output_type": "stream",
     "text": [
      "47/47 [==============================] - 6s 53ms/step\n"
     ]
    }
   ],
   "source": [
    "prediction=model.predict(x_test)"
   ]
  },
  {
   "cell_type": "code",
   "execution_count": 60,
   "id": "38c47137-b263-43bc-9445-634369ee1b55",
   "metadata": {},
   "outputs": [],
   "source": [
    "inv_pred=scaler.inverse_transform(prediction)"
   ]
  },
  {
   "cell_type": "code",
   "execution_count": 61,
   "id": "65340c05-2c99-46f4-8764-645471cc59ec",
   "metadata": {},
   "outputs": [],
   "source": [
    "inv_y_test=scaler.inverse_transform(y_test)"
   ]
  },
  {
   "cell_type": "code",
   "execution_count": 62,
   "id": "e30f11cb-29d5-4808-a55d-33bd2f77e5b8",
   "metadata": {},
   "outputs": [],
   "source": [
    "from sklearn.metrics import mean_squared_error"
   ]
  },
  {
   "cell_type": "code",
   "execution_count": 63,
   "id": "9e1b2093-09ff-4a60-89bd-38d53655c65c",
   "metadata": {},
   "outputs": [
    {
     "data": {
      "text/plain": [
       "0.025080575570315893"
      ]
     },
     "execution_count": 63,
     "metadata": {},
     "output_type": "execute_result"
    }
   ],
   "source": [
    "rmse=np.sqrt(mean_squared_error(inv_y_test,inv_pred))\n",
    "rmse # error difference"
   ]
  },
  {
   "cell_type": "code",
   "execution_count": 64,
   "id": "f465a1d3-7f15-4d49-bc21-5faabe7cbdc2",
   "metadata": {},
   "outputs": [],
   "source": [
    "pred_df=pd.DataFrame({'actual':inv_y_test.reshape(-1),\n",
    "                     'predicted':inv_pred.reshape(-1)})\n",
    "#comapring the actual vs predicted values"
   ]
  },
  {
   "cell_type": "code",
   "execution_count": 65,
   "id": "15959e44-12b1-4ded-832b-cc4f377770b1",
   "metadata": {},
   "outputs": [
    {
     "data": {
      "text/html": [
       "<div>\n",
       "<style scoped>\n",
       "    .dataframe tbody tr th:only-of-type {\n",
       "        vertical-align: middle;\n",
       "    }\n",
       "\n",
       "    .dataframe tbody tr th {\n",
       "        vertical-align: top;\n",
       "    }\n",
       "\n",
       "    .dataframe thead th {\n",
       "        text-align: right;\n",
       "    }\n",
       "</style>\n",
       "<table border=\"1\" class=\"dataframe\">\n",
       "  <thead>\n",
       "    <tr style=\"text-align: right;\">\n",
       "      <th></th>\n",
       "      <th>actual</th>\n",
       "      <th>predicted</th>\n",
       "    </tr>\n",
       "  </thead>\n",
       "  <tbody>\n",
       "    <tr>\n",
       "      <th>0</th>\n",
       "      <td>1.2886</td>\n",
       "      <td>1.294299</td>\n",
       "    </tr>\n",
       "    <tr>\n",
       "      <th>1</th>\n",
       "      <td>1.6546</td>\n",
       "      <td>1.637080</td>\n",
       "    </tr>\n",
       "    <tr>\n",
       "      <th>2</th>\n",
       "      <td>1.2508</td>\n",
       "      <td>1.264652</td>\n",
       "    </tr>\n",
       "    <tr>\n",
       "      <th>3</th>\n",
       "      <td>1.3021</td>\n",
       "      <td>1.305680</td>\n",
       "    </tr>\n",
       "    <tr>\n",
       "      <th>4</th>\n",
       "      <td>1.2518</td>\n",
       "      <td>1.252995</td>\n",
       "    </tr>\n",
       "    <tr>\n",
       "      <th>...</th>\n",
       "      <td>...</td>\n",
       "      <td>...</td>\n",
       "    </tr>\n",
       "    <tr>\n",
       "      <th>1477</th>\n",
       "      <td>1.2696</td>\n",
       "      <td>1.262119</td>\n",
       "    </tr>\n",
       "    <tr>\n",
       "      <th>1478</th>\n",
       "      <td>1.2148</td>\n",
       "      <td>1.215884</td>\n",
       "    </tr>\n",
       "    <tr>\n",
       "      <th>1479</th>\n",
       "      <td>1.3772</td>\n",
       "      <td>1.413027</td>\n",
       "    </tr>\n",
       "    <tr>\n",
       "      <th>1480</th>\n",
       "      <td>1.2249</td>\n",
       "      <td>1.237379</td>\n",
       "    </tr>\n",
       "    <tr>\n",
       "      <th>1481</th>\n",
       "      <td>1.4467</td>\n",
       "      <td>1.419836</td>\n",
       "    </tr>\n",
       "  </tbody>\n",
       "</table>\n",
       "<p>1482 rows × 2 columns</p>\n",
       "</div>"
      ],
      "text/plain": [
       "      actual  predicted\n",
       "0     1.2886   1.294299\n",
       "1     1.6546   1.637080\n",
       "2     1.2508   1.264652\n",
       "3     1.3021   1.305680\n",
       "4     1.2518   1.252995\n",
       "...      ...        ...\n",
       "1477  1.2696   1.262119\n",
       "1478  1.2148   1.215884\n",
       "1479  1.3772   1.413027\n",
       "1480  1.2249   1.237379\n",
       "1481  1.4467   1.419836\n",
       "\n",
       "[1482 rows x 2 columns]"
      ]
     },
     "execution_count": 65,
     "metadata": {},
     "output_type": "execute_result"
    }
   ],
   "source": [
    "pred_df # predicted vs actual values"
   ]
  },
  {
   "cell_type": "code",
   "execution_count": 66,
   "id": "1182b0d8-80a9-4e8c-9513-bc8dbf66100d",
   "metadata": {},
   "outputs": [],
   "source": [
    "from statsmodels.tsa .api import SimpleExpSmoothing"
   ]
  },
  {
   "cell_type": "code",
   "execution_count": 67,
   "id": "38250017-8d4b-496f-ae63-2f85c1222213",
   "metadata": {},
   "outputs": [
    {
     "data": {
      "text/plain": [
       "[<matplotlib.lines.Line2D at 0x1ce04e22130>]"
      ]
     },
     "execution_count": 67,
     "metadata": {},
     "output_type": "execute_result"
    },
    {
     "data": {
      "image/png": "[encoded data removed]",
      "text/plain": [
       "<Figure size 1500x1000 with 1 Axes>"
      ]
     },
     "metadata": {},
     "output_type": "display_data"
    }
   ],
   "source": [
    "plt.figure(figsize=(15,10))\n",
    "fit1=SimpleExpSmoothing(inv_pred).fit(smoothing_level=0.02,optimized=False)\n",
    "plt.plot(fit1.fittedvalues,color='red')\n",
    "fit2=SimpleExpSmoothing(inv_y_test).fit(smoothing_level=0.02,optimized=False)\n",
    "plt.plot(fit2.fittedvalues,color='blue')\n",
    "# visualizing the predicted vs actual"
   ]
  },
  {
   "cell_type": "markdown",
   "id": "040f3a91-6e16-4210-83b8-b4a0050a019c",
   "metadata": {},
   "source": [
    "# forecast"
   ]
  },
  {
   "cell_type": "code",
   "execution_count": null,
   "id": "c70cdd67-f057-46a6-9768-c99093540339",
   "metadata": {},
   "outputs": [],
   "source": []
  },
  {
   "cell_type": "code",
   "execution_count": 86,
   "id": "debf94bf-65d6-46e0-af15-d93183dc603d",
   "metadata": {},
   "outputs": [],
   "source": [
    "forecast_date = pd.date_range(start='2025-02-27', periods=30, freq='D').tolist()"
   ]
  },
  {
   "cell_type": "code",
   "execution_count": 87,
   "id": "4a54834e-866c-49d3-85a7-bf8dd00ea834",
   "metadata": {},
   "outputs": [],
   "source": [
    "fore_date=[]\n",
    "for time_i in forecast_date:\n",
    "    fore_date.append(time_i.date())\n"
   ]
  },
  {
   "cell_type": "code",
   "execution_count": 88,
   "id": "8c1d6212-794c-4252-b7ce-a9623706d025",
   "metadata": {},
   "outputs": [],
   "source": [
    "n_future=30"
   ]
  },
  {
   "cell_type": "code",
   "execution_count": 89,
   "id": "1465705a-07d7-462e-a5d4-ea824ac0543b",
   "metadata": {},
   "outputs": [],
   "source": [
    "next_day=scaler_data[-60:]\n",
    "next_day_reshape=next_day.reshape(1,60,1)"
   ]
  },
  {
   "cell_type": "code",
   "execution_count": 123,
   "id": "4dc9b3e0-a0ba-465a-b473-1056e3a3ec31",
   "metadata": {},
   "outputs": [
    {
     "name": "stdout",
     "output_type": "stream",
     "text": [
      "1/1 [==============================] - 0s 72ms/step\n"
     ]
    },
    {
     "name": "stderr",
     "output_type": "stream",
     "text": [
      "C:\\Users\\USER\\AppData\\Local\\Temp\\ipykernel_9204\\1519741867.py:6: DeprecationWarning: Conversion of an array with ndim > 0 to a scalar is deprecated, and will error in future. Ensure you extract a single element from your array before performing this operation. (Deprecated NumPy 1.25.)\n",
      "  next_day_reshape[0,-1,0]=pred\n"
     ]
    },
    {
     "name": "stdout",
     "output_type": "stream",
     "text": [
      "1/1 [==============================] - 0s 92ms/step\n",
      "1/1 [==============================] - 0s 78ms/step\n",
      "1/1 [==============================] - 0s 83ms/step\n",
      "1/1 [==============================] - 0s 83ms/step\n",
      "1/1 [==============================] - 0s 85ms/step\n",
      "1/1 [==============================] - 0s 80ms/step\n",
      "1/1 [==============================] - 0s 85ms/step\n",
      "1/1 [==============================] - 0s 81ms/step\n",
      "1/1 [==============================] - 0s 81ms/step\n",
      "1/1 [==============================] - 0s 81ms/step\n",
      "1/1 [==============================] - 0s 85ms/step\n",
      "1/1 [==============================] - 0s 80ms/step\n",
      "1/1 [==============================] - 0s 84ms/step\n",
      "1/1 [==============================] - 0s 84ms/step\n",
      "1/1 [==============================] - 0s 83ms/step\n",
      "1/1 [==============================] - 0s 83ms/step\n",
      "1/1 [==============================] - 0s 82ms/step\n",
      "1/1 [==============================] - 0s 81ms/step\n",
      "1/1 [==============================] - 0s 83ms/step\n",
      "1/1 [==============================] - 0s 86ms/step\n",
      "1/1 [==============================] - 0s 74ms/step\n",
      "1/1 [==============================] - 0s 80ms/step\n",
      "1/1 [==============================] - 0s 83ms/step\n",
      "1/1 [==============================] - 0s 84ms/step\n",
      "1/1 [==============================] - 0s 84ms/step\n",
      "1/1 [==============================] - 0s 82ms/step\n",
      "1/1 [==============================] - 0s 82ms/step\n",
      "1/1 [==============================] - 0s 82ms/step\n",
      "1/1 [==============================] - 0s 86ms/step\n"
     ]
    }
   ],
   "source": [
    "future_pred=[]\n",
    "for i in range (30):\n",
    "    pred=model.predict(next_day_reshape)\n",
    "    future_pred.append(pred[0,0])\n",
    "    next_day_reshape= np.append(next_day_reshape[:, 1:, :], [[[pred[0, 0]]]], axis=1)\n",
    "    next_day_reshape[0,-1,0]=pred"
   ]
  },
  {
   "cell_type": "code",
   "execution_count": 124,
   "id": "05192994-fc4b-4e82-b0db-b290fa506e37",
   "metadata": {},
   "outputs": [],
   "source": [
    "forecast_array=np.array(future_pred).reshape(-1,1)"
   ]
  },
  {
   "cell_type": "code",
   "execution_count": 125,
   "id": "b5b8a25e-1cbe-431e-8a12-eb685e1d4a6c",
   "metadata": {},
   "outputs": [],
   "source": [
    "future_pred1=scaler.inverse_transform(forecast_array)"
   ]
  },
  {
   "cell_type": "code",
   "execution_count": 126,
   "id": "3cd2ae37-b7e7-4bcb-9e92-3af4a639d69d",
   "metadata": {},
   "outputs": [
    {
     "ename": "ValueError",
     "evalue": "Per-column arrays must each be 1-dimensional",
     "output_type": "error",
     "traceback": [
      "\u001b[1;31m---------------------------------------------------------------------------\u001b[0m",
      "\u001b[1;31mValueError\u001b[0m                                Traceback (most recent call last)",
      "Cell \u001b[1;32mIn[126], line 1\u001b[0m\n\u001b[1;32m----> 1\u001b[0m f_df\u001b[38;5;241m=\u001b[39m\u001b[43mpd\u001b[49m\u001b[38;5;241;43m.\u001b[39;49m\u001b[43mDataFrame\u001b[49m\u001b[43m(\u001b[49m\u001b[43m{\u001b[49m\u001b[38;5;124;43m'\u001b[39;49m\u001b[38;5;124;43mdates\u001b[39;49m\u001b[38;5;124;43m'\u001b[39;49m\u001b[43m:\u001b[49m\u001b[43mfore_df\u001b[49m\u001b[43m,\u001b[49m\n\u001b[0;32m      2\u001b[0m \u001b[43m                   \u001b[49m\u001b[38;5;124;43m'\u001b[39;49m\u001b[38;5;124;43mopen\u001b[39;49m\u001b[38;5;124;43m'\u001b[39;49m\u001b[43m:\u001b[49m\u001b[43mfuture_pred1\u001b[49m\u001b[38;5;241;43m.\u001b[39;49m\u001b[43mflatten\u001b[49m\u001b[43m(\u001b[49m\u001b[43m)\u001b[49m\u001b[43m}\u001b[49m\u001b[43m)\u001b[49m\n",
      "File \u001b[1;32m~\\anaconda3\\anaconda4\\envs\\tensorr\\lib\\site-packages\\pandas\\core\\frame.py:778\u001b[0m, in \u001b[0;36mDataFrame.__init__\u001b[1;34m(self, data, index, columns, dtype, copy)\u001b[0m\n\u001b[0;32m    772\u001b[0m     mgr \u001b[38;5;241m=\u001b[39m \u001b[38;5;28mself\u001b[39m\u001b[38;5;241m.\u001b[39m_init_mgr(\n\u001b[0;32m    773\u001b[0m         data, axes\u001b[38;5;241m=\u001b[39m{\u001b[38;5;124m\"\u001b[39m\u001b[38;5;124mindex\u001b[39m\u001b[38;5;124m\"\u001b[39m: index, \u001b[38;5;124m\"\u001b[39m\u001b[38;5;124mcolumns\u001b[39m\u001b[38;5;124m\"\u001b[39m: columns}, dtype\u001b[38;5;241m=\u001b[39mdtype, copy\u001b[38;5;241m=\u001b[39mcopy\n\u001b[0;32m    774\u001b[0m     )\n\u001b[0;32m    776\u001b[0m \u001b[38;5;28;01melif\u001b[39;00m \u001b[38;5;28misinstance\u001b[39m(data, \u001b[38;5;28mdict\u001b[39m):\n\u001b[0;32m    777\u001b[0m     \u001b[38;5;66;03m# GH#38939 de facto copy defaults to False only in non-dict cases\u001b[39;00m\n\u001b[1;32m--> 778\u001b[0m     mgr \u001b[38;5;241m=\u001b[39m \u001b[43mdict_to_mgr\u001b[49m\u001b[43m(\u001b[49m\u001b[43mdata\u001b[49m\u001b[43m,\u001b[49m\u001b[43m \u001b[49m\u001b[43mindex\u001b[49m\u001b[43m,\u001b[49m\u001b[43m \u001b[49m\u001b[43mcolumns\u001b[49m\u001b[43m,\u001b[49m\u001b[43m \u001b[49m\u001b[43mdtype\u001b[49m\u001b[38;5;241;43m=\u001b[39;49m\u001b[43mdtype\u001b[49m\u001b[43m,\u001b[49m\u001b[43m \u001b[49m\u001b[43mcopy\u001b[49m\u001b[38;5;241;43m=\u001b[39;49m\u001b[43mcopy\u001b[49m\u001b[43m,\u001b[49m\u001b[43m \u001b[49m\u001b[43mtyp\u001b[49m\u001b[38;5;241;43m=\u001b[39;49m\u001b[43mmanager\u001b[49m\u001b[43m)\u001b[49m\n\u001b[0;32m    779\u001b[0m \u001b[38;5;28;01melif\u001b[39;00m \u001b[38;5;28misinstance\u001b[39m(data, ma\u001b[38;5;241m.\u001b[39mMaskedArray):\n\u001b[0;32m    780\u001b[0m     \u001b[38;5;28;01mfrom\u001b[39;00m \u001b[38;5;21;01mnumpy\u001b[39;00m\u001b[38;5;21;01m.\u001b[39;00m\u001b[38;5;21;01mma\u001b[39;00m \u001b[38;5;28;01mimport\u001b[39;00m mrecords\n",
      "File \u001b[1;32m~\\anaconda3\\anaconda4\\envs\\tensorr\\lib\\site-packages\\pandas\\core\\internals\\construction.py:503\u001b[0m, in \u001b[0;36mdict_to_mgr\u001b[1;34m(data, index, columns, dtype, typ, copy)\u001b[0m\n\u001b[0;32m    499\u001b[0m     \u001b[38;5;28;01melse\u001b[39;00m:\n\u001b[0;32m    500\u001b[0m         \u001b[38;5;66;03m# dtype check to exclude e.g. range objects, scalars\u001b[39;00m\n\u001b[0;32m    501\u001b[0m         arrays \u001b[38;5;241m=\u001b[39m [x\u001b[38;5;241m.\u001b[39mcopy() \u001b[38;5;28;01mif\u001b[39;00m \u001b[38;5;28mhasattr\u001b[39m(x, \u001b[38;5;124m\"\u001b[39m\u001b[38;5;124mdtype\u001b[39m\u001b[38;5;124m\"\u001b[39m) \u001b[38;5;28;01melse\u001b[39;00m x \u001b[38;5;28;01mfor\u001b[39;00m x \u001b[38;5;129;01min\u001b[39;00m arrays]\n\u001b[1;32m--> 503\u001b[0m \u001b[38;5;28;01mreturn\u001b[39;00m \u001b[43marrays_to_mgr\u001b[49m\u001b[43m(\u001b[49m\u001b[43marrays\u001b[49m\u001b[43m,\u001b[49m\u001b[43m \u001b[49m\u001b[43mcolumns\u001b[49m\u001b[43m,\u001b[49m\u001b[43m \u001b[49m\u001b[43mindex\u001b[49m\u001b[43m,\u001b[49m\u001b[43m \u001b[49m\u001b[43mdtype\u001b[49m\u001b[38;5;241;43m=\u001b[39;49m\u001b[43mdtype\u001b[49m\u001b[43m,\u001b[49m\u001b[43m \u001b[49m\u001b[43mtyp\u001b[49m\u001b[38;5;241;43m=\u001b[39;49m\u001b[43mtyp\u001b[49m\u001b[43m,\u001b[49m\u001b[43m \u001b[49m\u001b[43mconsolidate\u001b[49m\u001b[38;5;241;43m=\u001b[39;49m\u001b[43mcopy\u001b[49m\u001b[43m)\u001b[49m\n",
      "File \u001b[1;32m~\\anaconda3\\anaconda4\\envs\\tensorr\\lib\\site-packages\\pandas\\core\\internals\\construction.py:114\u001b[0m, in \u001b[0;36marrays_to_mgr\u001b[1;34m(arrays, columns, index, dtype, verify_integrity, typ, consolidate)\u001b[0m\n\u001b[0;32m    111\u001b[0m \u001b[38;5;28;01mif\u001b[39;00m verify_integrity:\n\u001b[0;32m    112\u001b[0m     \u001b[38;5;66;03m# figure out the index, if necessary\u001b[39;00m\n\u001b[0;32m    113\u001b[0m     \u001b[38;5;28;01mif\u001b[39;00m index \u001b[38;5;129;01mis\u001b[39;00m \u001b[38;5;28;01mNone\u001b[39;00m:\n\u001b[1;32m--> 114\u001b[0m         index \u001b[38;5;241m=\u001b[39m \u001b[43m_extract_index\u001b[49m\u001b[43m(\u001b[49m\u001b[43marrays\u001b[49m\u001b[43m)\u001b[49m\n\u001b[0;32m    115\u001b[0m     \u001b[38;5;28;01melse\u001b[39;00m:\n\u001b[0;32m    116\u001b[0m         index \u001b[38;5;241m=\u001b[39m ensure_index(index)\n",
      "File \u001b[1;32m~\\anaconda3\\anaconda4\\envs\\tensorr\\lib\\site-packages\\pandas\\core\\internals\\construction.py:664\u001b[0m, in \u001b[0;36m_extract_index\u001b[1;34m(data)\u001b[0m\n\u001b[0;32m    662\u001b[0m         raw_lengths\u001b[38;5;241m.\u001b[39mappend(\u001b[38;5;28mlen\u001b[39m(val))\n\u001b[0;32m    663\u001b[0m     \u001b[38;5;28;01melif\u001b[39;00m \u001b[38;5;28misinstance\u001b[39m(val, np\u001b[38;5;241m.\u001b[39mndarray) \u001b[38;5;129;01mand\u001b[39;00m val\u001b[38;5;241m.\u001b[39mndim \u001b[38;5;241m>\u001b[39m \u001b[38;5;241m1\u001b[39m:\n\u001b[1;32m--> 664\u001b[0m         \u001b[38;5;28;01mraise\u001b[39;00m \u001b[38;5;167;01mValueError\u001b[39;00m(\u001b[38;5;124m\"\u001b[39m\u001b[38;5;124mPer-column arrays must each be 1-dimensional\u001b[39m\u001b[38;5;124m\"\u001b[39m)\n\u001b[0;32m    666\u001b[0m \u001b[38;5;28;01mif\u001b[39;00m \u001b[38;5;129;01mnot\u001b[39;00m indexes \u001b[38;5;129;01mand\u001b[39;00m \u001b[38;5;129;01mnot\u001b[39;00m raw_lengths:\n\u001b[0;32m    667\u001b[0m     \u001b[38;5;28;01mraise\u001b[39;00m \u001b[38;5;167;01mValueError\u001b[39;00m(\u001b[38;5;124m\"\u001b[39m\u001b[38;5;124mIf using all scalar values, you must pass an index\u001b[39m\u001b[38;5;124m\"\u001b[39m)\n",
      "\u001b[1;31mValueError\u001b[0m: Per-column arrays must each be 1-dimensional"
     ]
    }
   ],
   "source": [
    "f_df=pd.DataFrame({'dates':fore_df,\n",
    "                   'open':future_pred1.flatten()})"
   ]
  },
  {
   "cell_type": "code",
   "execution_count": 84,
   "id": "43d0c7de-3ca8-46ff-aea7-977e5945e126",
   "metadata": {},
   "outputs": [],
   "source": [
    "# this chart shows that in the next 6months prices will range at 1.7 price in gbpusd"
   ]
  },
  {
   "cell_type": "code",
   "execution_count": 127,
   "id": "78eaeba0-b9cb-4248-806c-9d4925132b7d",
   "metadata": {},
   "outputs": [
    {
     "data": {
      "text/plain": [
       "(30, 1)"
      ]
     },
     "execution_count": 127,
     "metadata": {},
     "output_type": "execute_result"
    }
   ],
   "source": [
    "fore_df.shape"
   ]
  },
  {
   "cell_type": "code",
   "execution_count": 128,
   "id": "dc55b863-e923-4809-bf64-26139f2295f2",
   "metadata": {},
   "outputs": [
    {
     "data": {
      "text/plain": [
       "(30, 1)"
      ]
     },
     "execution_count": 128,
     "metadata": {},
     "output_type": "execute_result"
    }
   ],
   "source": [
    "future_pred1.shape"
   ]
  },
  {
   "cell_type": "code",
   "execution_count": 129,
   "id": "6ec36f0a-2877-4b8d-ac48-e310ba670663",
   "metadata": {},
   "outputs": [
    {
     "data": {
      "text/plain": [
       "array([[1.7255766],\n",
       "       [1.720964 ],\n",
       "       [1.7166222],\n",
       "       [1.712609 ],\n",
       "       [1.7088965],\n",
       "       [1.7054237],\n",
       "       [1.702125 ],\n",
       "       [1.6989449],\n",
       "       [1.6958419],\n",
       "       [1.6927882],\n",
       "       [1.6897663],\n",
       "       [1.6867672],\n",
       "       [1.6837862],\n",
       "       [1.6808215],\n",
       "       [1.6778734],\n",
       "       [1.6749419],\n",
       "       [1.6720275],\n",
       "       [1.6691307],\n",
       "       [1.6662517],\n",
       "       [1.6633906],\n",
       "       [1.6605473],\n",
       "       [1.6577215],\n",
       "       [1.6549133],\n",
       "       [1.6521221],\n",
       "       [1.6493485],\n",
       "       [1.6465918],\n",
       "       [1.6438518],\n",
       "       [1.6411285],\n",
       "       [1.6384219],\n",
       "       [1.6357319]], dtype=float32)"
      ]
     },
     "execution_count": 129,
     "metadata": {},
     "output_type": "execute_result"
    }
   ],
   "source": [
    "future_pred1"
   ]
  },
  {
   "cell_type": "code",
   "execution_count": 130,
   "id": "dd8a0a6a-16e0-4aa8-90e9-c38b0c40d923",
   "metadata": {},
   "outputs": [
    {
     "data": {
      "text/plain": [
       "[<matplotlib.lines.Line2D at 0x1ce157fb340>]"
      ]
     },
     "execution_count": 130,
     "metadata": {},
     "output_type": "execute_result"
    },
    {
     "data": {
      "image/png": "[encoded data removed]",
      "text/plain": [
       "<Figure size 640x480 with 1 Axes>"
      ]
     },
     "metadata": {},
     "output_type": "display_data"
    }
   ],
   "source": [
    "plt.plot(future_pred1)"
   ]
  },
  {
   "cell_type": "code",
   "execution_count": null,
   "id": "6990470a-b631-4077-93d8-8cccd597ecb9",
   "metadata": {},
   "outputs": [],
   "source": [
    "original=data['Open']\n",
    "original_df = original.loc[original.index > '2024-09-01']"
   ]
  },
  {
   "cell_type": "code",
   "execution_count": null,
   "id": "8532d0b9-e710-4a07-9cff-ac70bdb9aec8",
   "metadata": {},
   "outputs": [],
   "source": [
    "roll_f=f_df['open'].rolling(50).mean()"
   ]
  },
  {
   "cell_type": "code",
   "execution_count": null,
   "id": "362ed706-3710-4a7a-bbad-c00e3257b7a4",
   "metadata": {},
   "outputs": [],
   "source": [
    "plt.figure(figsize=(15,5))\n",
    "plt.plot(original)\n",
    "plt.plot(f_df['dates'],f_df['open'])\n",
    "plt.title('6o days predictions, full view')"
   ]
  },
  {
   "cell_type": "code",
   "execution_count": null,
   "id": "7755a930-f4cf-43f3-8a13-ae8198a08896",
   "metadata": {},
   "outputs": [],
   "source": [
    "plt.figure(figsize=(15,5))\n",
    "plt.plot(original_df)\n",
    "plt.plot(f_df['dates'],f_df['open'])\n",
    "plt.title('60 days predictions, close view')\n",
    "plt.grid(True)"
   ]
  },
  {
   "cell_type": "code",
   "execution_count": null,
   "id": "023ff499-7992-4e2b-9f3f-f9129c8946e8",
   "metadata": {},
   "outputs": [],
   "source": [
    "data.index.max()"
   ]
  },
  {
   "cell_type": "code",
   "execution_count": null,
   "id": "38f09e1f-6921-4fa0-ba6b-c42afa289d47",
   "metadata": {},
   "outputs": [],
   "source": []
  },
  {
   "cell_type": "code",
   "execution_count": 184,
   "id": "1df9972e-87a0-49fc-b955-42c8af4addea",
   "metadata": {},
   "outputs": [],
   "source": [
    "# model saving\n",
    "model.save('gbpusd_stock_model.hdf5')"
   ]
  },
  {
   "cell_type": "code",
   "execution_count": 142,
   "id": "5ba31447-6d7b-42b4-a7ab-4cdab7a292da",
   "metadata": {},
   "outputs": [],
   "source": [
    "from tensorflow.keras.layers import Conv1D,Flatten"
   ]
  },
  {
   "cell_type": "code",
   "execution_count": 134,
   "id": "a7ea860b-2c65-447c-ab1d-c32be4bb9373",
   "metadata": {},
   "outputs": [],
   "source": [
    "cnn=Sequential()"
   ]
  },
  {
   "cell_type": "code",
   "execution_count": 139,
   "id": "fd655bab-ecb1-4a4a-9bd9-e9f224afb053",
   "metadata": {},
   "outputs": [],
   "source": [
    "cnn.add(Conv1D(64,kernel_size=3,activation='relu',input_shape=(x_train.shape[1],x_train.shape[2])))"
   ]
  },
  {
   "cell_type": "code",
   "execution_count": null,
   "id": "4e9b7fec-4b5c-4992-aa99-1d5b81ec15b8",
   "metadata": {},
   "outputs": [],
   "source": []
  },
  {
   "cell_type": "code",
   "execution_count": 145,
   "id": "a0d018de-422c-4987-8944-3259d4d5f12f",
   "metadata": {},
   "outputs": [
    {
     "ename": "ValueError",
     "evalue": "Input 0 of layer \"lstm_4\" is incompatible with the layer: expected ndim=3, found ndim=2. Full shape received: (None, 3712)",
     "output_type": "error",
     "traceback": [
      "\u001b[1;31m---------------------------------------------------------------------------\u001b[0m",
      "\u001b[1;31mValueError\u001b[0m                                Traceback (most recent call last)",
      "Cell \u001b[1;32mIn[145], line 1\u001b[0m\n\u001b[1;32m----> 1\u001b[0m \u001b[43mcnn\u001b[49m\u001b[38;5;241;43m.\u001b[39;49m\u001b[43madd\u001b[49m\u001b[43m(\u001b[49m\u001b[43mLSTM\u001b[49m\u001b[43m(\u001b[49m\u001b[43munits\u001b[49m\u001b[38;5;241;43m=\u001b[39;49m\u001b[38;5;241;43m50\u001b[39;49m\u001b[43m,\u001b[49m\u001b[43mreturn_sequences\u001b[49m\u001b[38;5;241;43m=\u001b[39;49m\u001b[38;5;28;43;01mTrue\u001b[39;49;00m\u001b[43m)\u001b[49m\u001b[43m)\u001b[49m\n\u001b[0;32m      2\u001b[0m cnn\u001b[38;5;241m.\u001b[39madd(Dropout(\u001b[38;5;241m0.5\u001b[39m))\n",
      "File \u001b[1;32m~\\anaconda3\\anaconda4\\envs\\tensorr\\lib\\site-packages\\tensorflow\\python\\trackable\\base.py:205\u001b[0m, in \u001b[0;36mno_automatic_dependency_tracking.<locals>._method_wrapper\u001b[1;34m(self, *args, **kwargs)\u001b[0m\n\u001b[0;32m    203\u001b[0m \u001b[38;5;28mself\u001b[39m\u001b[38;5;241m.\u001b[39m_self_setattr_tracking \u001b[38;5;241m=\u001b[39m \u001b[38;5;28;01mFalse\u001b[39;00m  \u001b[38;5;66;03m# pylint: disable=protected-access\u001b[39;00m\n\u001b[0;32m    204\u001b[0m \u001b[38;5;28;01mtry\u001b[39;00m:\n\u001b[1;32m--> 205\u001b[0m   result \u001b[38;5;241m=\u001b[39m method(\u001b[38;5;28mself\u001b[39m, \u001b[38;5;241m*\u001b[39margs, \u001b[38;5;241m*\u001b[39m\u001b[38;5;241m*\u001b[39mkwargs)\n\u001b[0;32m    206\u001b[0m \u001b[38;5;28;01mfinally\u001b[39;00m:\n\u001b[0;32m    207\u001b[0m   \u001b[38;5;28mself\u001b[39m\u001b[38;5;241m.\u001b[39m_self_setattr_tracking \u001b[38;5;241m=\u001b[39m previous_value  \u001b[38;5;66;03m# pylint: disable=protected-access\u001b[39;00m\n",
      "File \u001b[1;32m~\\anaconda3\\anaconda4\\envs\\tensorr\\lib\\site-packages\\keras\\utils\\traceback_utils.py:70\u001b[0m, in \u001b[0;36mfilter_traceback.<locals>.error_handler\u001b[1;34m(*args, **kwargs)\u001b[0m\n\u001b[0;32m     67\u001b[0m     filtered_tb \u001b[38;5;241m=\u001b[39m _process_traceback_frames(e\u001b[38;5;241m.\u001b[39m__traceback__)\n\u001b[0;32m     68\u001b[0m     \u001b[38;5;66;03m# To get the full stack trace, call:\u001b[39;00m\n\u001b[0;32m     69\u001b[0m     \u001b[38;5;66;03m# `tf.debugging.disable_traceback_filtering()`\u001b[39;00m\n\u001b[1;32m---> 70\u001b[0m     \u001b[38;5;28;01mraise\u001b[39;00m e\u001b[38;5;241m.\u001b[39mwith_traceback(filtered_tb) \u001b[38;5;28;01mfrom\u001b[39;00m \u001b[38;5;28;01mNone\u001b[39;00m\n\u001b[0;32m     71\u001b[0m \u001b[38;5;28;01mfinally\u001b[39;00m:\n\u001b[0;32m     72\u001b[0m     \u001b[38;5;28;01mdel\u001b[39;00m filtered_tb\n",
      "File \u001b[1;32m~\\anaconda3\\anaconda4\\envs\\tensorr\\lib\\site-packages\\keras\\engine\\input_spec.py:232\u001b[0m, in \u001b[0;36massert_input_compatibility\u001b[1;34m(input_spec, inputs, layer_name)\u001b[0m\n\u001b[0;32m    230\u001b[0m     ndim \u001b[38;5;241m=\u001b[39m shape\u001b[38;5;241m.\u001b[39mrank\n\u001b[0;32m    231\u001b[0m     \u001b[38;5;28;01mif\u001b[39;00m ndim \u001b[38;5;241m!=\u001b[39m spec\u001b[38;5;241m.\u001b[39mndim:\n\u001b[1;32m--> 232\u001b[0m         \u001b[38;5;28;01mraise\u001b[39;00m \u001b[38;5;167;01mValueError\u001b[39;00m(\n\u001b[0;32m    233\u001b[0m             \u001b[38;5;124mf\u001b[39m\u001b[38;5;124m'\u001b[39m\u001b[38;5;124mInput \u001b[39m\u001b[38;5;132;01m{\u001b[39;00minput_index\u001b[38;5;132;01m}\u001b[39;00m\u001b[38;5;124m of layer \u001b[39m\u001b[38;5;124m\"\u001b[39m\u001b[38;5;132;01m{\u001b[39;00mlayer_name\u001b[38;5;132;01m}\u001b[39;00m\u001b[38;5;124m\"\u001b[39m\u001b[38;5;124m \u001b[39m\u001b[38;5;124m'\u001b[39m\n\u001b[0;32m    234\u001b[0m             \u001b[38;5;124m\"\u001b[39m\u001b[38;5;124mis incompatible with the layer: \u001b[39m\u001b[38;5;124m\"\u001b[39m\n\u001b[0;32m    235\u001b[0m             \u001b[38;5;124mf\u001b[39m\u001b[38;5;124m\"\u001b[39m\u001b[38;5;124mexpected ndim=\u001b[39m\u001b[38;5;132;01m{\u001b[39;00mspec\u001b[38;5;241m.\u001b[39mndim\u001b[38;5;132;01m}\u001b[39;00m\u001b[38;5;124m, found ndim=\u001b[39m\u001b[38;5;132;01m{\u001b[39;00mndim\u001b[38;5;132;01m}\u001b[39;00m\u001b[38;5;124m. \u001b[39m\u001b[38;5;124m\"\u001b[39m\n\u001b[0;32m    236\u001b[0m             \u001b[38;5;124mf\u001b[39m\u001b[38;5;124m\"\u001b[39m\u001b[38;5;124mFull shape received: \u001b[39m\u001b[38;5;132;01m{\u001b[39;00m\u001b[38;5;28mtuple\u001b[39m(shape)\u001b[38;5;132;01m}\u001b[39;00m\u001b[38;5;124m\"\u001b[39m\n\u001b[0;32m    237\u001b[0m         )\n\u001b[0;32m    238\u001b[0m \u001b[38;5;28;01mif\u001b[39;00m spec\u001b[38;5;241m.\u001b[39mmax_ndim \u001b[38;5;129;01mis\u001b[39;00m \u001b[38;5;129;01mnot\u001b[39;00m \u001b[38;5;28;01mNone\u001b[39;00m:\n\u001b[0;32m    239\u001b[0m     ndim \u001b[38;5;241m=\u001b[39m x\u001b[38;5;241m.\u001b[39mshape\u001b[38;5;241m.\u001b[39mrank\n",
      "\u001b[1;31mValueError\u001b[0m: Input 0 of layer \"lstm_4\" is incompatible with the layer: expected ndim=3, found ndim=2. Full shape received: (None, 3712)"
     ]
    }
   ],
   "source": [
    "cnn.add(LSTM(units=50,return_sequences=True))\n",
    "cnn.add(Dropout(0.5))"
   ]
  },
  {
   "cell_type": "code",
   "execution_count": 146,
   "id": "ca171dd5-46f2-47d4-afa3-2a9afedf01a9",
   "metadata": {},
   "outputs": [
    {
     "name": "stdout",
     "output_type": "stream",
     "text": [
      "                               Open      High       Low     Close  Volume  \\\n",
      "Datetime                                                                    \n",
      "2025-02-28 00:00:00+00:00  1.259747  1.259747  1.259747  1.259747       0   \n",
      "2025-02-28 00:01:00+00:00  1.259779  1.259779  1.259779  1.259779       0   \n",
      "2025-02-28 00:02:00+00:00  1.259763  1.259763  1.259763  1.259763       0   \n",
      "2025-02-28 00:03:00+00:00  1.259906  1.259906  1.259906  1.259906       0   \n",
      "2025-02-28 00:04:00+00:00  1.259906  1.259906  1.259906  1.259906       0   \n",
      "...                             ...       ...       ...       ...     ...   \n",
      "2025-02-28 04:41:00+00:00  1.258622  1.258622  1.258622  1.258622       0   \n",
      "2025-02-28 04:42:00+00:00  1.258622  1.258622  1.258622  1.258622       0   \n",
      "2025-02-28 04:43:00+00:00  1.258511  1.258511  1.258511  1.258511       0   \n",
      "2025-02-28 04:44:00+00:00  1.258431  1.258431  1.258431  1.258431       0   \n",
      "2025-02-28 04:45:00+00:00  1.258527  1.258527  1.258527  1.258527       0   \n",
      "\n",
      "                           Dividends  Stock Splits  \n",
      "Datetime                                            \n",
      "2025-02-28 00:00:00+00:00        0.0           0.0  \n",
      "2025-02-28 00:01:00+00:00        0.0           0.0  \n",
      "2025-02-28 00:02:00+00:00        0.0           0.0  \n",
      "2025-02-28 00:03:00+00:00        0.0           0.0  \n",
      "2025-02-28 00:04:00+00:00        0.0           0.0  \n",
      "...                              ...           ...  \n",
      "2025-02-28 04:41:00+00:00        0.0           0.0  \n",
      "2025-02-28 04:42:00+00:00        0.0           0.0  \n",
      "2025-02-28 04:43:00+00:00        0.0           0.0  \n",
      "2025-02-28 04:44:00+00:00        0.0           0.0  \n",
      "2025-02-28 04:45:00+00:00        0.0           0.0  \n",
      "\n",
      "[286 rows x 7 columns]\n"
     ]
    }
   ],
   "source": [
    "import yfinance as yf\n",
    "\n",
    "# Fetch live GBP/USD forex data\n",
    "gbpusd = yf.Ticker(\"GBPUSD=X\")\n",
    "hist = gbpusd.history(period=\"1d\", interval=\"1m\")  # 1-minute interval\n",
    "print(hist)"
   ]
  },
  {
   "cell_type": "code",
   "execution_count": 150,
   "id": "1db65632-76e6-4e27-a1ae-cb46b9d5f6af",
   "metadata": {},
   "outputs": [
    {
     "name": "stderr",
     "output_type": "stream",
     "text": [
      "2025-02-27 21:59:58.577 No runtime found, using MemoryCacheStorageManager\n",
      "2025-02-27 21:59:58.582 Thread 'MainThread': missing ScriptRunContext! This warning can be ignored when running in bare mode.\n",
      "2025-02-27 21:59:58.585 Thread 'MainThread': missing ScriptRunContext! This warning can be ignored when running in bare mode.\n",
      "2025-02-27 21:59:58.589 Thread 'MainThread': missing ScriptRunContext! This warning can be ignored when running in bare mode.\n",
      "2025-02-27 21:59:59.095 Thread 'Thread-12': missing ScriptRunContext! This warning can be ignored when running in bare mode.\n",
      "2025-02-27 21:59:59.215 Thread 'Thread-12': missing ScriptRunContext! This warning can be ignored when running in bare mode.\n",
      "2025-02-27 22:00:00.523 Thread 'MainThread': missing ScriptRunContext! This warning can be ignored when running in bare mode.\n",
      "2025-02-27 22:00:00.525 Thread 'MainThread': missing ScriptRunContext! This warning can be ignored when running in bare mode.\n"
     ]
    }
   ],
   "source": [
    "import streamlit as st\n",
    "from datetime import timedelta\n",
    "today = date.today().strftime(\"%Y-%m-%d\")\n",
    "sixty_days_ago = (date.today() - timedelta(days=60)).strftime(\"%Y-%m-%d\")  # Last 60 days\n",
    "@st.cache_data\n",
    "def get_one_hour_data():\n",
    "    gbpusd = yf.Ticker(\"GBPUSD=X\")\n",
    "    \n",
    "    # Fetch only the last 60 days of hourly data\n",
    "    hist_one_hour = gbpusd.history(start=sixty_days_ago, end=today, interval=\"60m\")\n",
    "    return hist_one_hour\n",
    "\n",
    "# Load cached data\n",
    "data_one_hour = get_one_hour_data() # this the data to use"
   ]
  },
  {
   "cell_type": "code",
   "execution_count": 151,
   "id": "446abcf4-f1ae-4f09-8545-75e8e3d25f62",
   "metadata": {},
   "outputs": [
    {
     "name": "stderr",
     "output_type": "stream",
     "text": [
      "C:\\Users\\USER\\anaconda3\\anaconda4\\envs\\tensorr\\lib\\site-packages\\sklearn\\base.py:486: UserWarning: X has feature names, but MinMaxScaler was fitted without feature names\n",
      "  warnings.warn(\n"
     ]
    }
   ],
   "source": [
    "daily_pred=data_one_hour[['Open']]\n",
    "scaled_data=scaler.transform(daily_pred)\n",
    "\n",
    "x_v=[]\n",
    "y_v=[]\n",
    "for i in range (60,len(scaled_data)):\n",
    "      x_v.append(scaled_data[i-60:i])\n",
    "      y_v.append(scaled_data[i])\n",
    "x_v=np.array(x_v)\n",
    "y_v=np.array(y_v)\n",
    "\n",
    "from sklearn.model_selection import train_test_split\n",
    "x_train_h,x_test_h,y_train_h,y_test_h=train_test_split(x_v,y_v,test_size=0.3,random_state=42)\n"
   ]
  },
  {
   "cell_type": "code",
   "execution_count": 153,
   "id": "6445cb5a-419f-4a17-866c-ba71ae11c57f",
   "metadata": {},
   "outputs": [
    {
     "data": {
      "text/plain": [
       "(661, 60, 1)"
      ]
     },
     "execution_count": 153,
     "metadata": {},
     "output_type": "execute_result"
    }
   ],
   "source": [
    "x_train_h.shape"
   ]
  },
  {
   "cell_type": "code",
   "execution_count": 152,
   "id": "cc960f92-ded6-460f-a9de-f90a2c467741",
   "metadata": {},
   "outputs": [],
   "source": [
    "hourly_model=Sequential()"
   ]
  },
  {
   "cell_type": "code",
   "execution_count": 154,
   "id": "07e84a17-e734-47a4-9dd1-87929cf76505",
   "metadata": {},
   "outputs": [],
   "source": [
    "hourly_model.add(LSTM(units=50,return_sequences=True,input_shape=(x_train_h.shape[1],x_train.shape[2])))\n",
    "hourly_model.add(Dropout(0.3))"
   ]
  },
  {
   "cell_type": "code",
   "execution_count": 155,
   "id": "fdfe6868-0e7e-445c-8e7a-f76e4d5373c1",
   "metadata": {},
   "outputs": [],
   "source": [
    "hourly_model.add(LSTM(units=50,return_sequences=True))\n",
    "hourly_model.add(Dropout(0.3))"
   ]
  },
  {
   "cell_type": "code",
   "execution_count": 156,
   "id": "9fc496db-7a35-4f4d-b581-1a8d7843e0f4",
   "metadata": {},
   "outputs": [],
   "source": [
    "hourly_model.add(LSTM(units=50,return_sequences=False))\n",
    "hourly_model.add(Dropout(0.3))"
   ]
  },
  {
   "cell_type": "code",
   "execution_count": 157,
   "id": "233f9d4d-e667-4ef9-9740-12a7ed8ffa97",
   "metadata": {},
   "outputs": [],
   "source": [
    "hourly_model.add(Dense(units=1))"
   ]
  },
  {
   "cell_type": "code",
   "execution_count": 160,
   "id": "4e9fa1e6-0ad7-4507-85c8-4b67bfcec0d6",
   "metadata": {},
   "outputs": [],
   "source": [
    "hourly_model.compile(optimizer='adam',loss='mean_absolute_error')"
   ]
  },
  {
   "cell_type": "code",
   "execution_count": 161,
   "id": "c20f007f-3909-4f1a-b7c8-449b90fb2a7e",
   "metadata": {},
   "outputs": [
    {
     "name": "stdout",
     "output_type": "stream",
     "text": [
      "Epoch 1/5\n",
      "21/21 [==============================] - 27s 397ms/step - loss: 0.0448 - val_loss: 0.0064\n",
      "Epoch 2/5\n",
      "21/21 [==============================] - 4s 213ms/step - loss: 0.0200 - val_loss: 0.0071\n",
      "Epoch 3/5\n",
      "21/21 [==============================] - 5s 249ms/step - loss: 0.0176 - val_loss: 0.0063\n",
      "Epoch 4/5\n",
      "21/21 [==============================] - 5s 216ms/step - loss: 0.0162 - val_loss: 0.0073\n",
      "Epoch 5/5\n",
      "21/21 [==============================] - 4s 210ms/step - loss: 0.0147 - val_loss: 0.0086\n"
     ]
    }
   ],
   "source": [
    "lstn=hourly_model.fit(x_train_h,y_train_h,validation_data=(x_test_h,y_test_h),batch_size=32,epochs=5)"
   ]
  },
  {
   "cell_type": "code",
   "execution_count": 162,
   "id": "1693a5e0-33ec-4aa0-bf11-b9b28624a943",
   "metadata": {},
   "outputs": [],
   "source": [
    "los=lstn.history['loss']"
   ]
  },
  {
   "cell_type": "code",
   "execution_count": 163,
   "id": "c48358c3-41ce-4612-833d-e95d40b81fab",
   "metadata": {},
   "outputs": [
    {
     "data": {
      "text/plain": [
       "[<matplotlib.lines.Line2D at 0x1ce20149fd0>]"
      ]
     },
     "execution_count": 163,
     "metadata": {},
     "output_type": "execute_result"
    },
    {
     "data": {
      "image/png": "[encoded data removed]",
      "text/plain": [
       "<Figure size 640x480 with 1 Axes>"
      ]
     },
     "metadata": {},
     "output_type": "display_data"
    }
   ],
   "source": [
    "plt.plot(los)"
   ]
  },
  {
   "cell_type": "code",
   "execution_count": 179,
   "id": "1188b2b4-fc65-4c4b-9cf2-dc01274f591b",
   "metadata": {},
   "outputs": [
    {
     "name": "stdout",
     "output_type": "stream",
     "text": [
      "1/1 [==============================] - 4s 4s/step\n"
     ]
    },
    {
     "name": "stderr",
     "output_type": "stream",
     "text": [
      "C:\\Users\\USER\\AppData\\Local\\Temp\\ipykernel_9204\\148632818.py:8: DeprecationWarning: Conversion of an array with ndim > 0 to a scalar is deprecated, and will error in future. Ensure you extract a single element from your array before performing this operation. (Deprecated NumPy 1.25.)\n",
      "  one_day_reshape[0,-1,0]=pred1\n"
     ]
    },
    {
     "name": "stdout",
     "output_type": "stream",
     "text": [
      "1/1 [==============================] - 0s 103ms/step\n",
      "1/1 [==============================] - 0s 79ms/step\n",
      "1/1 [==============================] - 0s 80ms/step\n",
      "1/1 [==============================] - 0s 79ms/step\n",
      "1/1 [==============================] - 0s 83ms/step\n",
      "1/1 [==============================] - 0s 78ms/step\n",
      "1/1 [==============================] - 0s 86ms/step\n",
      "1/1 [==============================] - 0s 78ms/step\n",
      "1/1 [==============================] - 0s 81ms/step\n",
      "1/1 [==============================] - 0s 78ms/step\n",
      "1/1 [==============================] - 0s 75ms/step\n",
      "1/1 [==============================] - 0s 80ms/step\n",
      "1/1 [==============================] - 0s 85ms/step\n",
      "1/1 [==============================] - 0s 84ms/step\n",
      "1/1 [==============================] - 0s 79ms/step\n",
      "1/1 [==============================] - 0s 77ms/step\n",
      "1/1 [==============================] - 0s 82ms/step\n",
      "1/1 [==============================] - 0s 79ms/step\n",
      "1/1 [==============================] - 0s 71ms/step\n",
      "1/1 [==============================] - 0s 82ms/step\n",
      "1/1 [==============================] - 0s 80ms/step\n",
      "1/1 [==============================] - 0s 78ms/step\n",
      "1/1 [==============================] - 0s 80ms/step\n"
     ]
    }
   ],
   "source": [
    "one_hour=scaled_data[-60:]\n",
    "one_day_reshape=one_hour.reshape(1,60,1)\n",
    "daily_pred=[]\n",
    "for i in range (24):\n",
    "    pred1=hourly_model.predict(one_day_reshape)\n",
    "    daily_pred.append(pred1[0,0])\n",
    "    one_day_reshape= np.append(one_day_reshape[:, 1:, :], [[[pred1[0, 0]]]], axis=1)\n",
    "    one_day_reshape[0,-1,0]=pred1"
   ]
  },
  {
   "cell_type": "code",
   "execution_count": 180,
   "id": "387119bd-91f5-48ac-9037-094f17a07efc",
   "metadata": {},
   "outputs": [],
   "source": [
    "one_forecast_array=np.array(daily_pred).reshape(-1,1)\n",
    "ture_pred1=scaler.inverse_transform(one_forecast_array)"
   ]
  },
  {
   "cell_type": "code",
   "execution_count": 181,
   "id": "33f76a5f-f0be-4452-b4f3-757e5df89088",
   "metadata": {},
   "outputs": [
    {
     "data": {
      "text/plain": [
       "[<matplotlib.lines.Line2D at 0x1ce23d15e50>]"
      ]
     },
     "execution_count": 181,
     "metadata": {},
     "output_type": "execute_result"
    },
    {
     "data": {
      "image/png": "[encoded data removed]",
      "text/plain": [
       "<Figure size 640x480 with 1 Axes>"
      ]
     },
     "metadata": {},
     "output_type": "display_data"
    }
   ],
   "source": [
    "plt.plot(ture_pred1)"
   ]
  },
  {
   "cell_type": "code",
   "execution_count": 178,
   "id": "43b14bd3-ca39-424b-86ac-770aff400dd7",
   "metadata": {},
   "outputs": [],
   "source": [
    "model2=hourly_model.save('hourly_model_forex.h5')"
   ]
  },
  {
   "cell_type": "code",
   "execution_count": 183,
   "id": "0d356950-38d8-4779-8e97-50308f276c81",
   "metadata": {},
   "outputs": [
    {
     "name": "stdout",
     "output_type": "stream",
     "text": [
      "2.32.3\n"
     ]
    }
   ],
   "source": [
    "import requests\n",
    "print(requests.__version__)"
   ]
  },
  {
   "cell_type": "code",
   "execution_count": 185,
   "id": "010d21ba-20e4-44ac-a561-46f558d5bbb7",
   "metadata": {},
   "outputs": [
    {
     "name": "stdout",
     "output_type": "stream",
     "text": [
      "3.12.1\n"
     ]
    }
   ],
   "source": [
    "import h5py\n",
    "print(h5py.__version__)"
   ]
  },
  {
   "cell_type": "code",
   "execution_count": null,
   "id": "547ac544-a297-41ff-bc6d-e5f5cca04736",
   "metadata": {},
   "outputs": [],
   "source": []
  }
 ],
 "metadata": {
  "kernelspec": {
   "display_name": "Python 3 (ipykernel)",
   "language": "python",
   "name": "python3"
  },
  "language_info": {
   "codemirror_mode": {
    "name": "ipython",
    "version": 3
   },
   "file_extension": ".py",
   "mimetype": "text/x-python",
   "name": "python",
   "nbconvert_exporter": "python",
   "pygments_lexer": "ipython3",
   "version": "3.9.18"
  }
 },
 "nbformat": 4,
 "nbformat_minor": 5
}
